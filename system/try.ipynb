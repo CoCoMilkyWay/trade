{
 "cells": [
  {
   "cell_type": "markdown",
   "metadata": {},
   "source": [
    "#### RSRS: Resistance Support Relative Strength\n",
    "- Get the highest price sequence and lowest price sequence of the previous N days.\n",
    "- Perform OLS linear regression on the two columns of data according to the model of equation (1).\n",
    "- The fitted beta value is used as the RSRS slope index value for the day.\n",
    "\n",
    "https://www.joinquant.com/view/community/detail/1f0faa953856129e5826979ff9b68095\n",
    "https://www.joinquant.com/view/community/detail/32b60d05f16c7d719d7fb836687504d6\n",
    "https://www.joinquant.com/view/community/detail/e855e5b3cf6a3f9219583c2281e4d048"
   ]
  }
 ],
 "metadata": {
  "kernelspec": {
   "display_name": "base",
   "language": "python",
   "name": "python3"
  },
  "language_info": {
   "codemirror_mode": {
    "name": "ipython",
    "version": 3
   },
   "file_extension": ".py",
   "mimetype": "text/x-python",
   "name": "python",
   "nbconvert_exporter": "python",
   "pygments_lexer": "ipython3",
   "version": "3.10.13"
  }
 },
 "nbformat": 4,
 "nbformat_minor": 2
}
