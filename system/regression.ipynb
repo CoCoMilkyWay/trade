{
 "cells": [
  {
   "cell_type": "code",
   "execution_count": 2,
   "metadata": {},
   "outputs": [],
   "source": [
    "#%matplotlib inline\n",
    "#terminal_output = open('/dev/stdout', 'w')\n",
    "#print('xxx', file=terminal_output)\n",
    "from IPython.display import Javascript\n",
    "from nbconvert import HTMLExporter\n",
    "import time\n",
    "\n",
    "def save_notebook():\n",
    "    display(\n",
    "        Javascript(\"IPython.notebook.save_notebook()\"),\n",
    "        include=['application/javascript']\n",
    "    )\n",
    "\n",
    "def output_HTML(read_file, output_file):\n",
    "    import codecs\n",
    "    import nbformat\n",
    "    exporter = HTMLExporter()\n",
    "    # read_file is '.ipynb', output_file is '.html'\n",
    "    output_notebook = nbformat.read(read_file, as_version=4)\n",
    "    output, resources = exporter.from_notebook_node(output_notebook)\n",
    "    codecs.open(output_file, 'w', encoding='utf-8').write(output)\n",
    "\n",
    "%run -i 'backtest.py'\n",
    "\n",
    "save_notebook()\n",
    "time.sleep(3)\n",
    "current_file = 'regression.ipynb'\n",
    "output_file = 'results/factor_xxx.html'\n",
    "output_HTML(current_file, output_file)"
   ]
  }
 ],
 "metadata": {
  "kernelspec": {
   "display_name": "Python 3",
   "language": "python",
   "name": "python3"
  },
  "language_info": {
   "codemirror_mode": {
    "name": "ipython",
    "version": 3
   },
   "file_extension": ".py",
   "mimetype": "text/x-python",
   "name": "python",
   "nbconvert_exporter": "python",
   "pygments_lexer": "ipython3",
   "version": "3.6.15"
  },
  "toc": {
   "base_numbering": 1,
   "nav_menu": {},
   "number_sections": true,
   "sideBar": true,
   "skip_h1_title": true,
   "title_cell": "Table of Contents",
   "title_sidebar": "Contents",
   "toc_cell": false,
   "toc_position": {
    "height": "calc(100% - 180px)",
    "left": "10px",
    "top": "150px",
    "width": "252.633px"
   },
   "toc_section_display": true,
   "toc_window_display": true
  }
 },
 "nbformat": 4,
 "nbformat_minor": 2
}
