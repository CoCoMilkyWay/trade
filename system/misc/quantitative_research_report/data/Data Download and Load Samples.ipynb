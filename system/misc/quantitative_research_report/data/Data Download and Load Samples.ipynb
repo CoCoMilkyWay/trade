{
 "cells": [
  {
   "cell_type": "code",
   "execution_count": 1,
   "metadata": {},
   "outputs": [],
   "source": [
    "import sys\n",
    "sys.path.append('../../Utils')\n",
    "\n",
    "import os \n",
    "\n",
    "from data_feed import DataFeed"
   ]
  },
  {
   "cell_type": "code",
   "execution_count": 2,
   "metadata": {},
   "outputs": [],
   "source": [
    "datafeed = DataFeed(config_path=os.path.join('..', 'config.ini'),\n",
    "                    local_data_dir='.')"
   ]
  },
  {
   "cell_type": "markdown",
   "metadata": {},
   "source": [
    "# 数据下载"
   ]
  },
  {
   "cell_type": "markdown",
   "metadata": {},
   "source": [
    "## 沪深300指数 - 1m - JoinQuant"
   ]
  },
  {
   "cell_type": "code",
   "execution_count": 3,
   "metadata": {},
   "outputs": [
    {
     "name": "stdout",
     "output_type": "stream",
     "text": [
      "开始查询JoinQuant数据~\n",
      "auth success \n",
      "Data Query Amount:  {'total': 10000000, 'spare': 10000000}\n"
     ]
    },
    {
     "name": "stderr",
     "output_type": "stream",
     "text": [
      "C:\\ProgramData\\Anaconda3\\lib\\site-packages\\jqdatasdk\\api.py:34: PanelObsoleteWarning: 当前环境 pandas 版本高于 0.25，get_price 与 get_fundamentals_continuously 接口的 panel 参数将固定为 False（0.25 及以上版本的 pandas 不再支持 panel，如使用该数据结构和相关函数请注意修改）\n",
      "  warnings.warn(PandasChecker.VERSION_NOTICE_MESSAGE, PanelObsoleteWarning)\n"
     ]
    },
    {
     "name": "stdout",
     "output_type": "stream",
     "text": [
      "下载完成~ 数据条数:981600, first_dt:2005-04-08 09:31:00, last_dt: 2022-01-28 15:00:00\n",
      "数据查询成功，开始保存到本地~\n",
      "本地已有Local Data File：.\\000300.XSHG.h5\n",
      "['/15m', '/1m', '/5m', '/daily']\n",
      "Local Data中已存在对应分区：1m，将更新文件\n",
      "数据加载完成~ \n",
      "first_dt:2005-04-08 09:31:00, \n",
      "last_dt:2022-01-28 15:00:00\n"
     ]
    },
    {
     "name": "stderr",
     "output_type": "stream",
     "text": [
      "C:\\ProgramData\\Anaconda3\\lib\\site-packages\\tables\\path.py:137: NaturalNameWarning: object name is not a valid Python identifier: '1m'; it does not match the pattern ``^[a-zA-Z_][a-zA-Z0-9_]*$``; you will not be able to use natural naming to access this object; using ``getattr()`` will still work, though\n",
      "  check_attribute_name(name)\n"
     ]
    },
    {
     "name": "stdout",
     "output_type": "stream",
     "text": [
      "文件已成功保存到本地~\n"
     ]
    }
   ],
   "source": [
    "\"\"\" 下载joinquant数据到本地 \"\"\"\n",
    "datafeed.query_jq_data_save_local('000300.XSHG',\n",
    "                                  '2005-04-08 09:30:00', \n",
    "                                  '2022-01-31 15:00:00',\n",
    "                                  '1m')"
   ]
  },
  {
   "cell_type": "markdown",
   "metadata": {},
   "source": [
    "## 沪深300指数 - 5m - JoinQuant"
   ]
  },
  {
   "cell_type": "code",
   "execution_count": 7,
   "metadata": {},
   "outputs": [
    {
     "name": "stdout",
     "output_type": "stream",
     "text": [
      "开始查询JoinQuant数据~\n",
      "Data Query Amount:  {'total': 10000000, 'spare': 9007036}\n"
     ]
    },
    {
     "name": "stderr",
     "output_type": "stream",
     "text": [
      "C:\\ProgramData\\Anaconda3\\lib\\site-packages\\jqdatasdk\\api.py:34: PanelObsoleteWarning: 当前环境 pandas 版本高于 0.25，get_price 与 get_fundamentals_continuously 接口的 panel 参数将固定为 False（0.25 及以上版本的 pandas 不再支持 panel，如使用该数据结构和相关函数请注意修改）\n",
      "  warnings.warn(PandasChecker.VERSION_NOTICE_MESSAGE, PanelObsoleteWarning)\n"
     ]
    },
    {
     "name": "stdout",
     "output_type": "stream",
     "text": [
      "下载完成~ 数据条数:196320, first_dt:2005-04-08 09:35:00, last_dt: 2022-01-28 15:00:00\n",
      "数据查询成功，开始保存到本地~\n",
      "本地已有Local Data File：.\\000300.XSHG.h5\n",
      "['/1m', '/daily']\n",
      "Local Data中未找到对应分区：5m，将新建文件\n",
      "文件已成功保存到本地~\n"
     ]
    },
    {
     "name": "stderr",
     "output_type": "stream",
     "text": [
      "C:\\ProgramData\\Anaconda3\\lib\\site-packages\\tables\\path.py:137: NaturalNameWarning: object name is not a valid Python identifier: '5m'; it does not match the pattern ``^[a-zA-Z_][a-zA-Z0-9_]*$``; you will not be able to use natural naming to access this object; using ``getattr()`` will still work, though\n",
      "  check_attribute_name(name)\n"
     ]
    }
   ],
   "source": [
    "datafeed.query_jq_data_save_local('000300.XSHG',\n",
    "                                  '2005-04-08 09:30:00', \n",
    "                                  '2022-01-31 15:00:00',\n",
    "                                  '5m')"
   ]
  },
  {
   "cell_type": "markdown",
   "metadata": {},
   "source": [
    "## 沪深300指数 - 15m - JoinQuant"
   ]
  },
  {
   "cell_type": "code",
   "execution_count": 8,
   "metadata": {},
   "outputs": [
    {
     "name": "stdout",
     "output_type": "stream",
     "text": [
      "开始查询JoinQuant数据~\n",
      "Data Query Amount:  {'total': 10000000, 'spare': 8810716}\n"
     ]
    },
    {
     "name": "stderr",
     "output_type": "stream",
     "text": [
      "C:\\ProgramData\\Anaconda3\\lib\\site-packages\\jqdatasdk\\api.py:34: PanelObsoleteWarning: 当前环境 pandas 版本高于 0.25，get_price 与 get_fundamentals_continuously 接口的 panel 参数将固定为 False（0.25 及以上版本的 pandas 不再支持 panel，如使用该数据结构和相关函数请注意修改）\n",
      "  warnings.warn(PandasChecker.VERSION_NOTICE_MESSAGE, PanelObsoleteWarning)\n"
     ]
    },
    {
     "name": "stdout",
     "output_type": "stream",
     "text": [
      "下载完成~ 数据条数:65440, first_dt:2005-04-08 09:45:00, last_dt: 2022-01-28 15:00:00\n",
      "数据查询成功，开始保存到本地~\n",
      "本地已有Local Data File：.\\000300.XSHG.h5\n",
      "['/1m', '/5m', '/daily']\n",
      "Local Data中未找到对应分区：15m，将新建文件\n",
      "文件已成功保存到本地~\n"
     ]
    },
    {
     "name": "stderr",
     "output_type": "stream",
     "text": [
      "C:\\ProgramData\\Anaconda3\\lib\\site-packages\\tables\\path.py:137: NaturalNameWarning: object name is not a valid Python identifier: '15m'; it does not match the pattern ``^[a-zA-Z_][a-zA-Z0-9_]*$``; you will not be able to use natural naming to access this object; using ``getattr()`` will still work, though\n",
      "  check_attribute_name(name)\n"
     ]
    }
   ],
   "source": [
    "datafeed.query_jq_data_save_local('000300.XSHG',\n",
    "                                  '2005-04-08 09:30:00', \n",
    "                                  '2022-01-31 15:00:00',\n",
    "                                  '15m')"
   ]
  },
  {
   "cell_type": "markdown",
   "metadata": {},
   "source": [
    "## 沪深300指数 - daily - JoinQuant"
   ]
  },
  {
   "cell_type": "code",
   "execution_count": 9,
   "metadata": {},
   "outputs": [
    {
     "name": "stdout",
     "output_type": "stream",
     "text": [
      "开始查询JoinQuant数据~\n",
      "Data Query Amount:  {'total': 10000000, 'spare': 8745276}\n",
      "下载完成~ 数据条数:4090, first_dt:2005-04-08 23:59:59, last_dt: 2022-01-28 23:59:59\n",
      "数据查询成功，开始保存到本地~\n",
      "本地已有Local Data File：.\\000300.XSHG.h5\n",
      "['/15m', '/1m', '/5m', '/daily']\n",
      "Local Data中已存在对应分区：daily，将更新文件\n",
      "数据加载完成~ \n",
      "first_dt:2020-12-01 23:59:59, \n",
      "last_dt:2022-01-28 23:59:59\n",
      "文件已成功保存到本地~\n"
     ]
    },
    {
     "name": "stderr",
     "output_type": "stream",
     "text": [
      "C:\\ProgramData\\Anaconda3\\lib\\site-packages\\jqdatasdk\\api.py:34: PanelObsoleteWarning: 当前环境 pandas 版本高于 0.25，get_price 与 get_fundamentals_continuously 接口的 panel 参数将固定为 False（0.25 及以上版本的 pandas 不再支持 panel，如使用该数据结构和相关函数请注意修改）\n",
      "  warnings.warn(PandasChecker.VERSION_NOTICE_MESSAGE, PanelObsoleteWarning)\n"
     ]
    }
   ],
   "source": [
    "datafeed.query_jq_data_save_local('000300.XSHG',\n",
    "                                  '2005-04-08', \n",
    "                                  '2022-01-31',\n",
    "                                  'daily')"
   ]
  },
  {
   "cell_type": "markdown",
   "metadata": {},
   "source": [
    "## 沪深300期货 - 1m - JoinQuant"
   ]
  },
  {
   "cell_type": "code",
   "execution_count": 10,
   "metadata": {},
   "outputs": [
    {
     "name": "stdout",
     "output_type": "stream",
     "text": [
      "开始查询JoinQuant数据~\n",
      "Data Query Amount:  {'total': 10000000, 'spare': 8741186}\n"
     ]
    },
    {
     "name": "stderr",
     "output_type": "stream",
     "text": [
      "C:\\ProgramData\\Anaconda3\\lib\\site-packages\\jqdatasdk\\api.py:34: PanelObsoleteWarning: 当前环境 pandas 版本高于 0.25，get_price 与 get_fundamentals_continuously 接口的 panel 参数将固定为 False（0.25 及以上版本的 pandas 不再支持 panel，如使用该数据结构和相关函数请注意修改）\n",
      "  warnings.warn(PandasChecker.VERSION_NOTICE_MESSAGE, PanelObsoleteWarning)\n"
     ]
    },
    {
     "name": "stdout",
     "output_type": "stream",
     "text": [
      "下载完成~ 数据条数:729960, first_dt:2010-04-16 09:16:00, last_dt: 2022-01-28 15:00:00\n",
      "数据查询成功，开始保存到本地~\n",
      "本地未找到Local Data File：.\\IF8888.CCFX.h5，将新建\n"
     ]
    },
    {
     "name": "stderr",
     "output_type": "stream",
     "text": [
      "C:\\ProgramData\\Anaconda3\\lib\\site-packages\\tables\\path.py:137: NaturalNameWarning: object name is not a valid Python identifier: '1m'; it does not match the pattern ``^[a-zA-Z_][a-zA-Z0-9_]*$``; you will not be able to use natural naming to access this object; using ``getattr()`` will still work, though\n",
      "  check_attribute_name(name)\n"
     ]
    },
    {
     "name": "stdout",
     "output_type": "stream",
     "text": [
      "文件已成功保存到本地~\n"
     ]
    }
   ],
   "source": [
    "datafeed.query_jq_data_save_local('IF8888.CCFX',\n",
    "                                  '2010-04-16 09:15:00', \n",
    "                                  '2022-01-31 15:00:00',\n",
    "                                  '1m')"
   ]
  },
  {
   "cell_type": "markdown",
   "metadata": {},
   "source": [
    "## 沪深300期货 - 5m - JoinQuant"
   ]
  },
  {
   "cell_type": "code",
   "execution_count": 11,
   "metadata": {},
   "outputs": [
    {
     "name": "stdout",
     "output_type": "stream",
     "text": [
      "开始查询JoinQuant数据~\n",
      "Data Query Amount:  {'total': 10000000, 'spare': 8011226}\n"
     ]
    },
    {
     "name": "stderr",
     "output_type": "stream",
     "text": [
      "C:\\ProgramData\\Anaconda3\\lib\\site-packages\\jqdatasdk\\api.py:34: PanelObsoleteWarning: 当前环境 pandas 版本高于 0.25，get_price 与 get_fundamentals_continuously 接口的 panel 参数将固定为 False（0.25 及以上版本的 pandas 不再支持 panel，如使用该数据结构和相关函数请注意修改）\n",
      "  warnings.warn(PandasChecker.VERSION_NOTICE_MESSAGE, PanelObsoleteWarning)\n"
     ]
    },
    {
     "name": "stdout",
     "output_type": "stream",
     "text": [
      "下载完成~ 数据条数:145992, first_dt:2010-04-16 09:20:00, last_dt: 2022-01-28 15:00:00\n",
      "数据查询成功，开始保存到本地~\n",
      "本地已有Local Data File：.\\IF8888.CCFX.h5\n",
      "['/1m']\n",
      "Local Data中未找到对应分区：5m，将新建文件\n",
      "文件已成功保存到本地~\n"
     ]
    },
    {
     "name": "stderr",
     "output_type": "stream",
     "text": [
      "C:\\ProgramData\\Anaconda3\\lib\\site-packages\\tables\\path.py:137: NaturalNameWarning: object name is not a valid Python identifier: '5m'; it does not match the pattern ``^[a-zA-Z_][a-zA-Z0-9_]*$``; you will not be able to use natural naming to access this object; using ``getattr()`` will still work, though\n",
      "  check_attribute_name(name)\n"
     ]
    }
   ],
   "source": [
    "datafeed.query_jq_data_save_local('IF8888.CCFX',\n",
    "                                  '2010-04-16 09:15:00', \n",
    "                                  '2022-01-31 15:00:00',\n",
    "                                  '5m')"
   ]
  },
  {
   "cell_type": "markdown",
   "metadata": {},
   "source": [
    "## 沪深300期货 - 15m - JoinQuant"
   ]
  },
  {
   "cell_type": "code",
   "execution_count": 12,
   "metadata": {},
   "outputs": [
    {
     "name": "stdout",
     "output_type": "stream",
     "text": [
      "开始查询JoinQuant数据~\n",
      "Data Query Amount:  {'total': 10000000, 'spare': 7865234}\n"
     ]
    },
    {
     "name": "stderr",
     "output_type": "stream",
     "text": [
      "C:\\ProgramData\\Anaconda3\\lib\\site-packages\\jqdatasdk\\api.py:34: PanelObsoleteWarning: 当前环境 pandas 版本高于 0.25，get_price 与 get_fundamentals_continuously 接口的 panel 参数将固定为 False（0.25 及以上版本的 pandas 不再支持 panel，如使用该数据结构和相关函数请注意修改）\n",
      "  warnings.warn(PandasChecker.VERSION_NOTICE_MESSAGE, PanelObsoleteWarning)\n"
     ]
    },
    {
     "name": "stdout",
     "output_type": "stream",
     "text": [
      "下载完成~ 数据条数:48664, first_dt:2010-04-16 09:30:00, last_dt: 2022-01-28 15:00:00\n",
      "数据查询成功，开始保存到本地~\n",
      "本地已有Local Data File：.\\IF8888.CCFX.h5\n",
      "['/1m', '/5m']\n",
      "Local Data中未找到对应分区：15m，将新建文件\n",
      "文件已成功保存到本地~\n"
     ]
    },
    {
     "name": "stderr",
     "output_type": "stream",
     "text": [
      "C:\\ProgramData\\Anaconda3\\lib\\site-packages\\tables\\path.py:137: NaturalNameWarning: object name is not a valid Python identifier: '15m'; it does not match the pattern ``^[a-zA-Z_][a-zA-Z0-9_]*$``; you will not be able to use natural naming to access this object; using ``getattr()`` will still work, though\n",
      "  check_attribute_name(name)\n"
     ]
    }
   ],
   "source": [
    "datafeed.query_jq_data_save_local('IF8888.CCFX',\n",
    "                                  '2010-04-16 09:15:00', \n",
    "                                  '2022-01-31 15:00:00',\n",
    "                                  '15m')"
   ]
  },
  {
   "cell_type": "markdown",
   "metadata": {},
   "source": [
    "## 沪深300期货 - daily - JoinQuant"
   ]
  },
  {
   "cell_type": "code",
   "execution_count": 13,
   "metadata": {},
   "outputs": [
    {
     "name": "stdout",
     "output_type": "stream",
     "text": [
      "开始查询JoinQuant数据~\n",
      "Data Query Amount:  {'total': 10000000, 'spare': 7816570}\n",
      "下载完成~ 数据条数:2868, first_dt:2010-04-16 23:59:59, last_dt: 2022-01-28 23:59:59\n",
      "数据查询成功，开始保存到本地~\n",
      "本地已有Local Data File：.\\IF8888.CCFX.h5\n",
      "['/15m', '/1m', '/5m']\n",
      "Local Data中未找到对应分区：daily，将新建文件\n",
      "文件已成功保存到本地~\n"
     ]
    },
    {
     "name": "stderr",
     "output_type": "stream",
     "text": [
      "C:\\ProgramData\\Anaconda3\\lib\\site-packages\\jqdatasdk\\api.py:34: PanelObsoleteWarning: 当前环境 pandas 版本高于 0.25，get_price 与 get_fundamentals_continuously 接口的 panel 参数将固定为 False（0.25 及以上版本的 pandas 不再支持 panel，如使用该数据结构和相关函数请注意修改）\n",
      "  warnings.warn(PandasChecker.VERSION_NOTICE_MESSAGE, PanelObsoleteWarning)\n"
     ]
    }
   ],
   "source": [
    "datafeed.query_jq_data_save_local('IF8888.CCFX',\n",
    "                                  '2010-04-16', \n",
    "                                  '2022-01-31',\n",
    "                                  'daily')"
   ]
  },
  {
   "cell_type": "markdown",
   "metadata": {},
   "source": [
    "## 上证指数 - daily - JoinQuant"
   ]
  },
  {
   "cell_type": "code",
   "execution_count": 3,
   "metadata": {},
   "outputs": [
    {
     "name": "stdout",
     "output_type": "stream",
     "text": [
      "开始查询JoinQuant数据~\n",
      "auth success \n",
      "Data Query Amount:  {'total': 1000000, 'spare': 1000000}\n",
      "下载完成~ 数据条数:4151, first_dt:2005-01-04 23:59:59, last_dt: 2022-01-28 23:59:59\n",
      "数据查询成功，开始保存到本地~\n",
      "本地未找到Local Data File：.\\000001.XSHG.h5，将新建\n"
     ]
    },
    {
     "name": "stderr",
     "output_type": "stream",
     "text": [
      "C:\\Users\\xuezhihuan\\Anaconda3\\lib\\site-packages\\jqdatasdk\\api.py:34: PanelObsoleteWarning: 当前环境 pandas 版本高于 0.25，get_price 与 get_fundamentals_continuously 接口的 panel 参数将固定为 False（0.25 及以上版本的 pandas 不再支持 panel，如使用该数据结构和相关函数请注意修改）\n",
      "  warnings.warn(PandasChecker.VERSION_NOTICE_MESSAGE, PanelObsoleteWarning)\n"
     ]
    },
    {
     "name": "stdout",
     "output_type": "stream",
     "text": [
      "文件已成功保存到本地~\n"
     ]
    }
   ],
   "source": [
    "datafeed.query_jq_data_save_local('000001.XSHG',\n",
    "                                  '1995-01-01', \n",
    "                                  '2022-01-31',\n",
    "                                  'daily')"
   ]
  },
  {
   "cell_type": "markdown",
   "metadata": {},
   "source": [
    "# 数据读取"
   ]
  },
  {
   "cell_type": "markdown",
   "metadata": {},
   "source": [
    "## 沪深300指数"
   ]
  },
  {
   "cell_type": "code",
   "execution_count": 4,
   "metadata": {},
   "outputs": [
    {
     "name": "stdout",
     "output_type": "stream",
     "text": [
      "数据加载完成~ \n",
      "first_dt:2005-04-08 09:31:00, \n",
      "last_dt:2022-01-28 15:00:00\n"
     ]
    },
    {
     "data": {
      "text/html": [
       "<div>\n",
       "<style scoped>\n",
       "    .dataframe tbody tr th:only-of-type {\n",
       "        vertical-align: middle;\n",
       "    }\n",
       "\n",
       "    .dataframe tbody tr th {\n",
       "        vertical-align: top;\n",
       "    }\n",
       "\n",
       "    .dataframe thead th {\n",
       "        text-align: right;\n",
       "    }\n",
       "</style>\n",
       "<table border=\"1\" class=\"dataframe\">\n",
       "  <thead>\n",
       "    <tr style=\"text-align: right;\">\n",
       "      <th></th>\n",
       "      <th>open</th>\n",
       "      <th>close</th>\n",
       "      <th>high</th>\n",
       "      <th>low</th>\n",
       "      <th>volume</th>\n",
       "      <th>money</th>\n",
       "      <th>date</th>\n",
       "      <th>time</th>\n",
       "    </tr>\n",
       "  </thead>\n",
       "  <tbody>\n",
       "    <tr>\n",
       "      <th>0</th>\n",
       "      <td>984.66</td>\n",
       "      <td>983.83</td>\n",
       "      <td>984.66</td>\n",
       "      <td>983.66</td>\n",
       "      <td>19930000.0</td>\n",
       "      <td>214853842.0</td>\n",
       "      <td>2005-04-08</td>\n",
       "      <td>09:31:00</td>\n",
       "    </tr>\n",
       "    <tr>\n",
       "      <th>1</th>\n",
       "      <td>983.85</td>\n",
       "      <td>984.79</td>\n",
       "      <td>984.79</td>\n",
       "      <td>983.85</td>\n",
       "      <td>6780000.0</td>\n",
       "      <td>73091272.0</td>\n",
       "      <td>2005-04-08</td>\n",
       "      <td>09:32:00</td>\n",
       "    </tr>\n",
       "    <tr>\n",
       "      <th>2</th>\n",
       "      <td>984.50</td>\n",
       "      <td>984.84</td>\n",
       "      <td>984.86</td>\n",
       "      <td>984.44</td>\n",
       "      <td>4680000.0</td>\n",
       "      <td>27809568.0</td>\n",
       "      <td>2005-04-08</td>\n",
       "      <td>09:33:00</td>\n",
       "    </tr>\n",
       "    <tr>\n",
       "      <th>3</th>\n",
       "      <td>984.93</td>\n",
       "      <td>985.55</td>\n",
       "      <td>985.67</td>\n",
       "      <td>984.83</td>\n",
       "      <td>6150000.0</td>\n",
       "      <td>27162392.0</td>\n",
       "      <td>2005-04-08</td>\n",
       "      <td>09:34:00</td>\n",
       "    </tr>\n",
       "    <tr>\n",
       "      <th>4</th>\n",
       "      <td>985.64</td>\n",
       "      <td>986.37</td>\n",
       "      <td>986.37</td>\n",
       "      <td>985.64</td>\n",
       "      <td>6520000.0</td>\n",
       "      <td>27208928.0</td>\n",
       "      <td>2005-04-08</td>\n",
       "      <td>09:35:00</td>\n",
       "    </tr>\n",
       "  </tbody>\n",
       "</table>\n",
       "</div>"
      ],
      "text/plain": [
       "     open   close    high     low      volume        money        date  \\\n",
       "0  984.66  983.83  984.66  983.66  19930000.0  214853842.0  2005-04-08   \n",
       "1  983.85  984.79  984.79  983.85   6780000.0   73091272.0  2005-04-08   \n",
       "2  984.50  984.84  984.86  984.44   4680000.0   27809568.0  2005-04-08   \n",
       "3  984.93  985.55  985.67  984.83   6150000.0   27162392.0  2005-04-08   \n",
       "4  985.64  986.37  986.37  985.64   6520000.0   27208928.0  2005-04-08   \n",
       "\n",
       "       time  \n",
       "0  09:31:00  \n",
       "1  09:32:00  \n",
       "2  09:33:00  \n",
       "3  09:34:00  \n",
       "4  09:35:00  "
      ]
     },
     "execution_count": 4,
     "metadata": {},
     "output_type": "execute_result"
    }
   ],
   "source": [
    "\"\"\" 读取本地数据 \"\"\"\n",
    "data = datafeed.load_local_data('000300.XSHG', '1m')\n",
    "data.head()"
   ]
  },
  {
   "cell_type": "markdown",
   "metadata": {},
   "source": [
    "## 沪深300期货"
   ]
  },
  {
   "cell_type": "code",
   "execution_count": 14,
   "metadata": {},
   "outputs": [
    {
     "name": "stdout",
     "output_type": "stream",
     "text": [
      "数据加载完成~ \n",
      "first_dt:2010-04-16 09:16:00, \n",
      "last_dt:2022-01-28 15:00:00\n"
     ]
    },
    {
     "data": {
      "text/html": [
       "<div>\n",
       "<style scoped>\n",
       "    .dataframe tbody tr th:only-of-type {\n",
       "        vertical-align: middle;\n",
       "    }\n",
       "\n",
       "    .dataframe tbody tr th {\n",
       "        vertical-align: top;\n",
       "    }\n",
       "\n",
       "    .dataframe thead th {\n",
       "        text-align: right;\n",
       "    }\n",
       "</style>\n",
       "<table border=\"1\" class=\"dataframe\">\n",
       "  <thead>\n",
       "    <tr style=\"text-align: right;\">\n",
       "      <th></th>\n",
       "      <th>open</th>\n",
       "      <th>close</th>\n",
       "      <th>high</th>\n",
       "      <th>low</th>\n",
       "      <th>volume</th>\n",
       "      <th>money</th>\n",
       "      <th>date</th>\n",
       "      <th>time</th>\n",
       "    </tr>\n",
       "  </thead>\n",
       "  <tbody>\n",
       "    <tr>\n",
       "      <th>0</th>\n",
       "      <td>3474.055</td>\n",
       "      <td>3495.885</td>\n",
       "      <td>3513.114</td>\n",
       "      <td>3474.055</td>\n",
       "      <td>825.0</td>\n",
       "      <td>865458300.0</td>\n",
       "      <td>2010-04-16</td>\n",
       "      <td>09:16:00</td>\n",
       "    </tr>\n",
       "    <tr>\n",
       "      <th>1</th>\n",
       "      <td>3495.017</td>\n",
       "      <td>3492.854</td>\n",
       "      <td>3500.204</td>\n",
       "      <td>3491.814</td>\n",
       "      <td>410.0</td>\n",
       "      <td>430079460.0</td>\n",
       "      <td>2010-04-16</td>\n",
       "      <td>09:17:00</td>\n",
       "    </tr>\n",
       "    <tr>\n",
       "      <th>2</th>\n",
       "      <td>3492.132</td>\n",
       "      <td>3490.321</td>\n",
       "      <td>3495.163</td>\n",
       "      <td>3487.942</td>\n",
       "      <td>285.0</td>\n",
       "      <td>298402320.0</td>\n",
       "      <td>2010-04-16</td>\n",
       "      <td>09:18:00</td>\n",
       "    </tr>\n",
       "    <tr>\n",
       "      <th>3</th>\n",
       "      <td>3489.075</td>\n",
       "      <td>3473.542</td>\n",
       "      <td>3490.248</td>\n",
       "      <td>3473.317</td>\n",
       "      <td>368.0</td>\n",
       "      <td>384303120.0</td>\n",
       "      <td>2010-04-16</td>\n",
       "      <td>09:19:00</td>\n",
       "    </tr>\n",
       "    <tr>\n",
       "      <th>4</th>\n",
       "      <td>3473.573</td>\n",
       "      <td>3476.633</td>\n",
       "      <td>3482.627</td>\n",
       "      <td>3471.577</td>\n",
       "      <td>355.0</td>\n",
       "      <td>370525860.0</td>\n",
       "      <td>2010-04-16</td>\n",
       "      <td>09:20:00</td>\n",
       "    </tr>\n",
       "  </tbody>\n",
       "</table>\n",
       "</div>"
      ],
      "text/plain": [
       "       open     close      high       low  volume        money        date  \\\n",
       "0  3474.055  3495.885  3513.114  3474.055   825.0  865458300.0  2010-04-16   \n",
       "1  3495.017  3492.854  3500.204  3491.814   410.0  430079460.0  2010-04-16   \n",
       "2  3492.132  3490.321  3495.163  3487.942   285.0  298402320.0  2010-04-16   \n",
       "3  3489.075  3473.542  3490.248  3473.317   368.0  384303120.0  2010-04-16   \n",
       "4  3473.573  3476.633  3482.627  3471.577   355.0  370525860.0  2010-04-16   \n",
       "\n",
       "       time  \n",
       "0  09:16:00  \n",
       "1  09:17:00  \n",
       "2  09:18:00  \n",
       "3  09:19:00  \n",
       "4  09:20:00  "
      ]
     },
     "execution_count": 14,
     "metadata": {},
     "output_type": "execute_result"
    }
   ],
   "source": [
    "\"\"\" 读取本地数据 \"\"\"\n",
    "data = datafeed.load_local_data('IF8888.CCFX', '1m')\n",
    "data.head()"
   ]
  },
  {
   "cell_type": "markdown",
   "metadata": {},
   "source": [
    "## 上证指数"
   ]
  },
  {
   "cell_type": "code",
   "execution_count": 4,
   "metadata": {},
   "outputs": [
    {
     "name": "stdout",
     "output_type": "stream",
     "text": [
      "数据加载完成~ \n",
      "first_dt:2005-01-04 23:59:59, \n",
      "last_dt:2022-01-28 23:59:59\n"
     ]
    },
    {
     "data": {
      "text/html": [
       "<div>\n",
       "<style scoped>\n",
       "    .dataframe tbody tr th:only-of-type {\n",
       "        vertical-align: middle;\n",
       "    }\n",
       "\n",
       "    .dataframe tbody tr th {\n",
       "        vertical-align: top;\n",
       "    }\n",
       "\n",
       "    .dataframe thead th {\n",
       "        text-align: right;\n",
       "    }\n",
       "</style>\n",
       "<table border=\"1\" class=\"dataframe\">\n",
       "  <thead>\n",
       "    <tr style=\"text-align: right;\">\n",
       "      <th></th>\n",
       "      <th>open</th>\n",
       "      <th>close</th>\n",
       "      <th>high</th>\n",
       "      <th>low</th>\n",
       "      <th>volume</th>\n",
       "      <th>money</th>\n",
       "      <th>date</th>\n",
       "      <th>time</th>\n",
       "    </tr>\n",
       "  </thead>\n",
       "  <tbody>\n",
       "    <tr>\n",
       "      <th>0</th>\n",
       "      <td>1260.78</td>\n",
       "      <td>1242.77</td>\n",
       "      <td>1260.78</td>\n",
       "      <td>1238.18</td>\n",
       "      <td>816177000.0</td>\n",
       "      <td>4.418452e+09</td>\n",
       "      <td>2005-01-04</td>\n",
       "      <td>23:59:59</td>\n",
       "    </tr>\n",
       "    <tr>\n",
       "      <th>1</th>\n",
       "      <td>1241.68</td>\n",
       "      <td>1251.94</td>\n",
       "      <td>1258.58</td>\n",
       "      <td>1235.75</td>\n",
       "      <td>867865100.0</td>\n",
       "      <td>4.916589e+09</td>\n",
       "      <td>2005-01-05</td>\n",
       "      <td>23:59:59</td>\n",
       "    </tr>\n",
       "    <tr>\n",
       "      <th>2</th>\n",
       "      <td>1252.49</td>\n",
       "      <td>1239.43</td>\n",
       "      <td>1252.73</td>\n",
       "      <td>1234.24</td>\n",
       "      <td>792225400.0</td>\n",
       "      <td>4.381370e+09</td>\n",
       "      <td>2005-01-06</td>\n",
       "      <td>23:59:59</td>\n",
       "    </tr>\n",
       "    <tr>\n",
       "      <th>3</th>\n",
       "      <td>1239.32</td>\n",
       "      <td>1244.75</td>\n",
       "      <td>1256.31</td>\n",
       "      <td>1235.51</td>\n",
       "      <td>894087100.0</td>\n",
       "      <td>5.040042e+09</td>\n",
       "      <td>2005-01-07</td>\n",
       "      <td>23:59:59</td>\n",
       "    </tr>\n",
       "    <tr>\n",
       "      <th>4</th>\n",
       "      <td>1243.58</td>\n",
       "      <td>1252.40</td>\n",
       "      <td>1252.72</td>\n",
       "      <td>1236.09</td>\n",
       "      <td>723468300.0</td>\n",
       "      <td>4.118292e+09</td>\n",
       "      <td>2005-01-10</td>\n",
       "      <td>23:59:59</td>\n",
       "    </tr>\n",
       "  </tbody>\n",
       "</table>\n",
       "</div>"
      ],
      "text/plain": [
       "      open    close     high      low       volume         money        date  \\\n",
       "0  1260.78  1242.77  1260.78  1238.18  816177000.0  4.418452e+09  2005-01-04   \n",
       "1  1241.68  1251.94  1258.58  1235.75  867865100.0  4.916589e+09  2005-01-05   \n",
       "2  1252.49  1239.43  1252.73  1234.24  792225400.0  4.381370e+09  2005-01-06   \n",
       "3  1239.32  1244.75  1256.31  1235.51  894087100.0  5.040042e+09  2005-01-07   \n",
       "4  1243.58  1252.40  1252.72  1236.09  723468300.0  4.118292e+09  2005-01-10   \n",
       "\n",
       "       time  \n",
       "0  23:59:59  \n",
       "1  23:59:59  \n",
       "2  23:59:59  \n",
       "3  23:59:59  \n",
       "4  23:59:59  "
      ]
     },
     "execution_count": 4,
     "metadata": {},
     "output_type": "execute_result"
    }
   ],
   "source": [
    "\"\"\" 读取本地数据 \"\"\"\n",
    "data = datafeed.load_local_data('000001.XSHG', 'daily')\n",
    "data.head()"
   ]
  },
  {
   "cell_type": "code",
   "execution_count": null,
   "metadata": {},
   "outputs": [],
   "source": []
  }
 ],
 "metadata": {
  "kernelspec": {
   "display_name": "Python 3",
   "language": "python",
   "name": "python3"
  },
  "language_info": {
   "codemirror_mode": {
    "name": "ipython",
    "version": 3
   },
   "file_extension": ".py",
   "mimetype": "text/x-python",
   "name": "python",
   "nbconvert_exporter": "python",
   "pygments_lexer": "ipython3",
   "version": "3.8.8"
  },
  "toc": {
   "base_numbering": 1,
   "nav_menu": {},
   "number_sections": true,
   "sideBar": true,
   "skip_h1_title": false,
   "title_cell": "Table of Contents",
   "title_sidebar": "Contents",
   "toc_cell": false,
   "toc_position": {
    "height": "calc(100% - 180px)",
    "left": "10px",
    "top": "150px",
    "width": "278.011px"
   },
   "toc_section_display": true,
   "toc_window_display": true
  }
 },
 "nbformat": 4,
 "nbformat_minor": 2
}
