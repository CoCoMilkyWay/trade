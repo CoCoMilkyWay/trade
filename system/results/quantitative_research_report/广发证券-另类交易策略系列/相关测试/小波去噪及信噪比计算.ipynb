{
 "cells": [
  {
   "cell_type": "code",
   "execution_count": 2,
   "id": "5d5d4ea5",
   "metadata": {},
   "outputs": [],
   "source": [
    "import pywt\n",
    "import numpy as np\n",
    "import pandas as pd\n",
    "import matplotlib.pyplot as plt\n",
    "import math"
   ]
  },
  {
   "cell_type": "code",
   "execution_count": 3,
   "id": "59ac4a64",
   "metadata": {},
   "outputs": [
    {
     "name": "stdout",
     "output_type": "stream",
     "text": [
      "[ 1.  2.  3.  4.  5.  6.  7.  8.  9. 10.]\n"
     ]
    }
   ],
   "source": [
    "data = np.linspace(1, 10, 10)\n",
    "print(data)"
   ]
  },
  {
   "cell_type": "code",
   "execution_count": 4,
   "id": "a66ecb3c",
   "metadata": {},
   "outputs": [
    {
     "name": "stdout",
     "output_type": "stream",
     "text": [
      "[12. 12. 12. 12. 12.  0.  1.  2.  3.  4.]\n",
      "[12. 12. 12. 12. 12.  6.  7.  8.  9. 10.]\n",
      "[12. 12. 12. 12. 12.  6.  7.  8.  9. 10.]\n",
      "[ 1.  2.  3.  4.  5.  6. 12. 12. 12. 12.]\n"
     ]
    }
   ],
   "source": [
    "# pywt.threshold(data, value, mode, substitute) mode 模式有4种，soft, hard, greater, less; substitute是替换值\n",
    "\n",
    "# 将小于6 的值设置为12， 大于等于6 的值全部减去6\n",
    "data_soft = pywt.threshold(data=data, value=6, mode='soft', substitute=12)\n",
    "print(data_soft)\n",
    "\n",
    "\n",
    "# 将小于6 的值设置为12， 其余的值不变\n",
    "data_hard = pywt.threshold(data=data, value=6, mode='hard', substitute=12)\n",
    "print(data_hard)\n",
    "\n",
    "\n",
    "# 将小于6 的值设置为12，大于等于阈值的值不变化\n",
    "data_greater = pywt.threshold(data, 6, 'greater', 12)\n",
    "print(data_greater)\n",
    "\n",
    "\n",
    "# 将大于6 的值设置为12， 小于等于阈值的值不变\n",
    "data_less = pywt.threshold(data, 6, 'less', 12)\n",
    "print(data_less)\n"
   ]
  },
  {
   "cell_type": "markdown",
   "id": "bedb9b68",
   "metadata": {},
   "source": [
    "# 在python中使用ecg心电信号进行小波去噪实验"
   ]
  },
  {
   "cell_type": "code",
   "execution_count": 5,
   "id": "468d1baf",
   "metadata": {},
   "outputs": [],
   "source": [
    "import matplotlib.pyplot as plt\n",
    "import pywt\n",
    "\n",
    "# Get data:\n",
    "ecg = pywt.data.ecg() # 生成心电信号\n",
    "index = []\n",
    "data = []\n",
    "for i in range(len(ecg)-1):\n",
    "    X = float(i)\n",
    "    Y = float(ecg[i])\n",
    "    index.append(X)\n",
    "    data.append(Y)"
   ]
  },
  {
   "cell_type": "code",
   "execution_count": 6,
   "id": "c5550d0f",
   "metadata": {},
   "outputs": [
    {
     "name": "stdout",
     "output_type": "stream",
     "text": [
      "maximum level is 6\n"
     ]
    },
    {
     "data": {
      "text/plain": [
       "<Figure size 432x288 with 0 Axes>"
      ]
     },
     "metadata": {},
     "output_type": "display_data"
    },
    {
     "data": {
      "image/png": "[encoded data removed]",
      "text/plain": [
       "<Figure size 432x288 with 2 Axes>"
      ]
     },
     "metadata": {
      "needs_background": "light"
     },
     "output_type": "display_data"
    }
   ],
   "source": [
    "# Create wavelet object and define parameters\n",
    "\n",
    "w = pywt.Wavelet('db8') # 选用Daubechies8小波\n",
    "maxlev = pywt.dwt_max_level(len(data), w.dec_len)\n",
    "print(\"maximum level is \" + str(maxlev))\n",
    "\n",
    "threshold = 0.04 # Threshold for filtering\n",
    "# Decompose into wavelet components, to the level selected:\n",
    "coeffs = pywt.wavedec(data, 'db8', level=maxlev) # 将信号进行小波分解\n",
    "plt.figure()\n",
    "\n",
    "for i in range(1, len(coeffs)):\n",
    "    coeffs[i] = pywt.threshold(coeffs[i], threshold*max(coeffs[i])) # 将噪声滤波\n",
    "    datarec = pywt.waverec(coeffs, 'db8') # 将信号进行小波重构\n",
    "    mintime = 0\n",
    "    maxtime = mintime + len(data) + 1\n",
    "\n",
    "plt.figure()\n",
    "plt.subplot(2, 1, 1)\n",
    "plt.plot(index[mintime:maxtime], data[mintime:maxtime])\n",
    "plt.xlabel('time (s)')\n",
    "plt.ylabel('microvolts (uV)')\n",
    "plt.title(\"Raw signal\")\n",
    "\n",
    "plt.subplot(2, 1, 2)\n",
    "plt.plot(index[mintime:maxtime], datarec[mintime:maxtime-1])\n",
    "plt.xlabel('time (s)')\n",
    "plt.ylabel('microvolts (uV)')\n",
    "plt.title(\"De-noised signal using wavelet techniques\")\n",
    "\n",
    "plt.tight_layout()\n",
    "\n",
    "plt.show()"
   ]
  },
  {
   "cell_type": "markdown",
   "id": "ff73443b",
   "metadata": {},
   "source": [
    "# 多项式拟合"
   ]
  },
  {
   "cell_type": "code",
   "execution_count": null,
   "id": "9731cca5",
   "metadata": {},
   "outputs": [],
   "source": [
    "X = np.array([1,2,3,4,5,6,7,8,9,10])\n",
    "Y = 2*X+1"
   ]
  },
  {
   "cell_type": "code",
   "execution_count": 67,
   "id": "ee2bb5f1",
   "metadata": {},
   "outputs": [
    {
     "name": "stdout",
     "output_type": "stream",
     "text": [
      " \n",
      "2 x + 1\n",
      " \n",
      "2\n",
      "[2. 2. 2. 2. 2. 2. 2. 2. 2. 2.]\n"
     ]
    }
   ],
   "source": [
    "params_n = np.polyfit(X, Y, deg=1)\n",
    "f = np.poly1d(params_n)\n",
    "f_d1 = f.deriv(m=1)\n",
    "d1_values = np.polyval(f_d1.coef, X)\n",
    "\n",
    "print(f)\n",
    "print(f_d1)\n",
    "print(d1_values)"
   ]
  },
  {
   "cell_type": "markdown",
   "id": "cfe8aae5",
   "metadata": {},
   "source": [
    "# R值计算"
   ]
  },
  {
   "cell_type": "code",
   "execution_count": 68,
   "id": "0eafd3f1",
   "metadata": {},
   "outputs": [
    {
     "data": {
      "text/plain": [
       "1.0"
      ]
     },
     "execution_count": 68,
     "metadata": {},
     "output_type": "execute_result"
    }
   ],
   "source": [
    "yfit = np.polyval(params_n, X)\n",
    "Rsquare = np.corrcoef(Y, yfit)[0,1]**2\n",
    "Rsquare"
   ]
  },
  {
   "cell_type": "markdown",
   "id": "696f4ee4",
   "metadata": {},
   "source": [
    "# 信噪比计算"
   ]
  },
  {
   "cell_type": "code",
   "execution_count": 70,
   "id": "26a23827",
   "metadata": {},
   "outputs": [],
   "source": [
    "# 原文链接：https://blog.csdn.net/weixin_43545253/article/details/113727709\n",
    "\n",
    "import numpy as np\n",
    "import math\n",
    "\n",
    "def SNR_singlech(S, SN):\n",
    "    \"\"\" \n",
    "        S: 纯信号\n",
    "        SN:带噪信号\n",
    "    \"\"\"\n",
    "    S = S-np.mean(S)# 消除直流分量\n",
    "    S = S/np.max(np.abs(S))#幅值归一化\n",
    "    mean_S = (np.sum(S))/(len(S))#纯信号的平均值\n",
    "    PS = np.sum((S-mean_S)*(S-mean_S))\n",
    "    PN = np.sum((S-SN)*(S-SN))\n",
    "    snr=10*math.log((PS/PN), 10)\n",
    "    return(snr)"
   ]
  },
  {
   "cell_type": "code",
   "execution_count": 71,
   "id": "c45fcac6",
   "metadata": {},
   "outputs": [
    {
     "name": "stdout",
     "output_type": "stream",
     "text": [
      "snr= -26.206091942316917\n"
     ]
    }
   ],
   "source": [
    "snr = SNR_singlech(yfit, Y)\n",
    "print('snr=', snr)"
   ]
  },
  {
   "cell_type": "code",
   "execution_count": null,
   "id": "b99a77e8",
   "metadata": {},
   "outputs": [],
   "source": []
  }
 ],
 "metadata": {
  "kernelspec": {
   "display_name": "Python 3",
   "language": "python",
   "name": "python3"
  },
  "language_info": {
   "codemirror_mode": {
    "name": "ipython",
    "version": 3
   },
   "file_extension": ".py",
   "mimetype": "text/x-python",
   "name": "python",
   "nbconvert_exporter": "python",
   "pygments_lexer": "ipython3",
   "version": "3.8.8"
  },
  "toc": {
   "base_numbering": 1,
   "nav_menu": {},
   "number_sections": true,
   "sideBar": true,
   "skip_h1_title": false,
   "title_cell": "Table of Contents",
   "title_sidebar": "Contents",
   "toc_cell": false,
   "toc_position": {},
   "toc_section_display": true,
   "toc_window_display": true
  }
 },
 "nbformat": 4,
 "nbformat_minor": 5
}
