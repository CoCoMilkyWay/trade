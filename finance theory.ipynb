{
 "cells": [
  {
   "cell_type": "markdown",
   "metadata": {},
   "source": [
    "- CAPM model: capital asset pricing (not work in high volatility market)\n",
    "$$\n",
    "E_{t}(r_{i,t})=\\alpha_{i}+\\beta_{i}E_{t}(MKT_{t})\n",
    "$$"
   ]
  }
 ],
 "metadata": {
  "language_info": {
   "name": "python"
  },
  "orig_nbformat": 4
 },
 "nbformat": 4,
 "nbformat_minor": 2
}
